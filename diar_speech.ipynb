{
 "cells": [
  {
   "cell_type": "markdown",
   "metadata": {
    "id": "MNqBvcm8_Ndb"
   },
   "source": [
    "# Multi-Language Speech Recognition and Speaker Diarisation\n",
    "\n",
    "This demo allows you to recognize speech in 99 different languages, identify speakers, and translate the text into a selected language. The pipeline is made up of three libraries: \n",
    "* [denoiser](https://github.com/facebookresearch/denoiser) to remove extraneous noise from the audio,\n",
    "* [pyannote](https://github.com/pyannote/pyannote-audio) for speaker diarisation, and\n",
    "* [whisper](https://github.com/openai/whisper) - the main component that not only recognizes speech but also has the ability to translate it into one of 99 languages.\n",
    "\n",
    "It's worth noting that the capability to translate into any language was discovered by accident during experiments with the model, and the official repository only states that it can translate any of the languages into English. The quality of recognition and translation may vary depending on the language being used."
   ]
  },
  {
   "cell_type": "markdown",
   "metadata": {
    "id": "HPMZvbqD5KH4"
   },
   "source": [
    "## Setup"
   ]
  },
  {
   "cell_type": "code",
   "execution_count": null,
   "metadata": {
    "id": "3zQrxfIoNlTI"
   },
   "outputs": [],
   "source": [
    "# %%capture\n",
    "\n",
    "!pip install -U yt-dlp\n",
    "!pip install -r requirements.txt\n",
    "!pip install omegaconf==2.3.0 pytorch-lightning==1.8.4\n",
    "\n",
    "import subprocess\n",
    "subprocess.Popen(['python3', '-m', 'http.server', '8000']);\n",
    "\n",
    "from yt_dlp import YoutubeDL\n",
    "\n",
    "# workaround colab's \"unrecognized arguments\"\n",
    "import sys\n",
    "sys.argv = []\n",
    "\n",
    "from backend import get_speakers, split_audio, get_subtitles, timeline_to_vtt, calc_speaker_percentage\n",
    "from whisper.tokenizer import LANGUAGES\n",
    "\n",
    "# yet another workaround\n",
    "# https://github.com/pyannote/pyannote-audio/issues/1269\n",
    "import locale\n",
    "locale.getpreferredencoding = lambda: \"UTF-8\"\n",
    "\n",
    "import ipywidgets as widgets\n",
    "from IPython.display import clear_output, display, HTML\n",
    "from huggingface_hub import notebook_login\n",
    "import tempfile\n",
    "\n",
    "def render_player():\n",
    "  with open('player.html', 'r') as f:\n",
    "    player_html = f.read()\n",
    "  player_html = player_html.replace('$url', 'http://localhost:8000/video.mp4')\n",
    "  player_html = player_html.replace('$vtt', 'http://localhost:8000/subtitles.vtt')\n",
    "  player_html = player_html.replace('$percentages', str(percentages))\n",
    "  return HTML(player_html)\n",
    "\n",
    "out = widgets.Output()\n",
    "upload = widgets.FileUpload(accept='.mp4', button_style='info')\n",
    "text = widgets.Text(placeholder='Youtube URL')\n",
    "lang_options = [('Original', None)]+[(v.capitalize(), k) for k, v in LANGUAGES.items()]\n",
    "lang = widgets.Dropdown(options=lang_options, description='Translate to:')\n",
    "\n",
    "percentages = []\n",
    "\n",
    "def process(enhance=True):  \n",
    "  global percentages\n",
    "  print('Processing...')\n",
    "\n",
    "  !rm -f video.mp4\n",
    "  if text.value:\n",
    "    with YoutubeDL({'format': 'bv[ext=mp4]+bv[height<=1080]+ba[ext=m4a]', 'outtmpl': 'video.mp4'}) as ydl:\n",
    "      ydl.download([text.value])\n",
    "  else:\n",
    "    with open('video.mp4', 'wb') as f:\n",
    "      uploaded_filename = next(iter(upload.value))\n",
    "      content = upload.value[uploaded_filename]['content']\n",
    "      f.write(content)\n",
    "  \n",
    "  clear_output()\n",
    "        \n",
    "  with tempfile.TemporaryDirectory() as tmpdirname:\n",
    "    # split audio to fit in memory\n",
    "    with open('video.mp4', 'rb') as f:\n",
    "      duration = split_audio(tmpdirname, f)\n",
    "\n",
    "    speaker_diarisation, cleaned_path = get_speakers(tmpdirname)\n",
    "\n",
    "    clear_output()\n",
    "\n",
    "    print('Language', lang.value)\n",
    "    timeline  = get_subtitles(speaker_diarisation, cleaned_path, language=lang.value)\n",
    "\n",
    "    vtt = timeline_to_vtt(timeline)\n",
    "    percentages = calc_speaker_percentage(timeline, duration)\n",
    "    with open('subtitles.vtt', 'w') as f:\n",
    "      f.write(vtt)\n",
    "\n",
    "    clear_output()\n",
    "    print('Ready')\n",
    "\n",
    "def render_upload_form():\n",
    "  return widgets.VBox([text, widgets.Label(value='or'), upload, lang])\n"
   ]
  },
  {
   "cell_type": "markdown",
   "metadata": {
    "id": "UWo0u88o5Vdl"
   },
   "source": [
    "## Login on huggingface\n",
    "\n",
    "**Note: You will need to accept pyannote's [speaker-diarization](https://huggingface.co/pyannote/speaker-diarization) and [segmentation](https://huggingface.co/pyannote/segmentation) user conditions.**"
   ]
  },
  {
   "cell_type": "code",
   "execution_count": null,
   "metadata": {
    "id": "3VI8rcG7se0f"
   },
   "outputs": [],
   "source": [
    "from huggingface_hub import notebook_login\n",
    "notebook_login()"
   ]
  },
  {
   "cell_type": "markdown",
   "metadata": {
    "id": "b23tMUFV5rn6"
   },
   "source": [
    "## UI"
   ]
  },
  {
   "cell_type": "code",
   "execution_count": null,
   "metadata": {
    "id": "ftqEhHH0YNwB"
   },
   "outputs": [],
   "source": [
    "render_upload_form()"
   ]
  },
  {
   "cell_type": "code",
   "execution_count": null,
   "metadata": {
    "id": "5qgbwvk-7FqV"
   },
   "outputs": [],
   "source": [
    "process()"
   ]
  },
  {
   "cell_type": "code",
   "execution_count": null,
   "metadata": {
    "id": "LNFJQAof7G4O"
   },
   "outputs": [],
   "source": [
    "render_player()"
   ]
  }
 ],
 "metadata": {
  "accelerator": "GPU",
  "colab": {
   "collapsed_sections": [
    "HPMZvbqD5KH4"
   ],
   "private_outputs": true,
   "provenance": []
  },
  "gpuClass": "standard",
  "kernelspec": {
   "display_name": "Python (py3.10)",
   "language": "python",
   "name": "py3.10"
  },
  "language_info": {
   "codemirror_mode": {
    "name": "ipython",
    "version": 3
   },
   "file_extension": ".py",
   "mimetype": "text/x-python",
   "name": "python",
   "nbconvert_exporter": "python",
   "pygments_lexer": "ipython3",
   "version": "3.10.8"
  },
  "vscode": {
   "interpreter": {
    "hash": "376849e4ad5f5f9e6c30ad49542ed8906757d0bad303a7288fc2c6ecf3f60a81"
   }
  }
 },
 "nbformat": 4,
 "nbformat_minor": 4
}
